{
 "cells": [
  {
   "cell_type": "code",
   "execution_count": null,
   "metadata": {},
   "outputs": [],
   "source": [
    "%matplotlib inline\n",
    "import pymc3 as pm\n",
    "import numpy as np\n",
    "import scipy.stats as stats\n",
    "import matplotlib.pyplot as plt\n",
    "import math\n",
    "\n",
    "%config InlineBackend.figure_format = 'retina'\n",
    "plt.style.use(['seaborn-colorblind', 'seaborn-darkgrid'])"
   ]
  },
  {
   "cell_type": "markdown",
   "metadata": {},
   "source": [
    "#### Code 2.1"
   ]
  },
  {
   "cell_type": "code",
   "execution_count": null,
   "metadata": {},
   "outputs": [],
   "source": [
    "ways = np.array([0, 3, 8, 9, 0])\n",
    "ways / ways.sum()"
   ]
  },
  {
   "cell_type": "markdown",
   "metadata": {},
   "source": [
    "#### Code 2.2\n",
    "\n",
    "$$Pr(W, L \\mid p) =  \\frac{(W + L)!}{W!L!} p^W (1 − p)^{L}$$\n",
    "\n",
    "\n",
    "The probability of observing six W’s in nine tosses—under a value of p=0.5"
   ]
  },
  {
   "cell_type": "code",
   "execution_count": null,
   "metadata": {},
   "outputs": [],
   "source": [
    "W = 6\n",
    "L = 3\n",
    "n = W + L\n",
    "p = 0.5\n",
    "\n",
    "stats.binom.pmf(W, n=n, p=p)"
   ]
  },
  {
   "cell_type": "markdown",
   "metadata": {},
   "source": [
    "#### Code 2.3 and 2.5\n",
    "\n",
    "Computing the posterior using a grid approximation.\n",
    "\n",
    "In the book the following code is not inside a function, but this way is easier to play with different parameters"
   ]
  },
  {
   "cell_type": "code",
   "execution_count": null,
   "metadata": {},
   "outputs": [],
   "source": [
    "def posterior_grid_approx(grid_points=5, success=6, tosses=9, prior=None):\n",
    "    \"\"\"\n",
    "    \"\"\"\n",
    "    # define grid\n",
    "    p_grid = np.linspace(0, 1, grid_points)\n",
    "\n",
    "    # define prior\n",
    "    if prior is None:\n",
    "        prior = np.repeat(5, grid_points)  # uniform\n",
    "    elif prior == 'step':\n",
    "        prior = (p_grid >= 0.5).astype(int)  # truncated\n",
    "    elif prior == 'peaked':\n",
    "        prior = np.exp(- 5 * abs(p_grid - 0.5))  # double exp\n",
    "\n",
    "    # compute likelihood at each point in the grid\n",
    "    likelihood = stats.binom.pmf(success, tosses, p_grid)\n",
    "\n",
    "    # compute product of likelihood and prior\n",
    "    unstd_posterior = likelihood * prior\n",
    "\n",
    "    # standardize the posterior, so it sums to 1\n",
    "    posterior = unstd_posterior / unstd_posterior.sum()\n",
    "    return p_grid, posterior"
   ]
  },
  {
   "cell_type": "markdown",
   "metadata": {},
   "source": [
    "#### Code 2.4 (uniform prior)"
   ]
  },
  {
   "cell_type": "code",
   "execution_count": null,
   "metadata": {},
   "outputs": [],
   "source": [
    "def plot_posterior(points, success, tosses, prior=None):\n",
    "    p_grid, posterior = posterior_grid_approx(points, success, tosses, prior=prior)\n",
    "    plt.plot(p_grid, posterior, 'o-', label='success = {}\\ntosses = {}'.format(success, tosses))\n",
    "    plt.xlabel('probability of water', fontsize=14)\n",
    "    plt.ylabel('posterior probability', fontsize=14)\n",
    "    plt.title('{} points'.format(points))\n",
    "    plt.legend(loc=0);"
   ]
  },
  {
   "cell_type": "code",
   "execution_count": null,
   "metadata": {},
   "outputs": [],
   "source": [
    "points = 20\n",
    "w, n = 6, 9\n",
    "plot_posterior(points, success=w, tosses=n)"
   ]
  },
  {
   "cell_type": "markdown",
   "metadata": {},
   "source": [
    "#### Code 2.5"
   ]
  },
  {
   "cell_type": "markdown",
   "metadata": {},
   "source": [
    "##### Step Prior: 0 prob for values < 0.5"
   ]
  },
  {
   "cell_type": "code",
   "execution_count": null,
   "metadata": {},
   "outputs": [],
   "source": [
    "prior = 'step'  # See posterior_grid_approx function for how this is calculated\n",
    "points = 20\n",
    "w, n = 6, 9\n",
    "plot_posterior(points, success=w, tosses=n, prior=prior)"
   ]
  },
  {
   "cell_type": "markdown",
   "metadata": {},
   "source": [
    "##### Peaked Prior: Increased likelihood at 0.5"
   ]
  },
  {
   "cell_type": "code",
   "execution_count": null,
   "metadata": {},
   "outputs": [],
   "source": [
    "prior = 'peaked'  # See posterior_grid_approx function for how this is calculated\n",
    "points = 20\n",
    "w, n = 6, 9\n",
    "plot_posterior(points, success=w, tosses=n, prior=prior)"
   ]
  },
  {
   "cell_type": "markdown",
   "metadata": {},
   "source": [
    "#### Code 2.6\n",
    "\n",
    "Computing the posterior using the quadratic aproximation"
   ]
  },
  {
   "cell_type": "code",
   "execution_count": null,
   "metadata": {},
   "outputs": [],
   "source": [
    "def precis(mean_q, std_q):\n",
    "    \"\"\"\n",
    "    Simplifies printing a summary of quadratic approximation -- kind of like the precis function in the book\n",
    "    \"\"\"\n",
    "    print('Mean: ' + str(mean_q['p']))\n",
    "    print('StdDev: ' + str(std_q))\n",
    "    \n",
    "    norm = stats.norm(mean_q, std_q)\n",
    "    prob = .89\n",
    "    z = stats.norm.ppf([(1-prob)/2, (1+prob)/2])\n",
    "    pi = mean_q['p'] + std_q * z \n",
    "    print('5.5%: ' + str(pi[0]))\n",
    "    print('94.5%: ' + str(pi[1]))\n",
    "    \n",
    "    "
   ]
  },
  {
   "cell_type": "code",
   "execution_count": null,
   "metadata": {},
   "outputs": [],
   "source": [
    "data = np.repeat((0, 1), (3, 6))\n",
    "with pm.Model() as normal_aproximation:\n",
    "    p = pm.Uniform('p', 0, 1)  # Uniform prior\n",
    "    w = pm.Binomial('w', n=len(data), p=p, observed=data.sum())  # binomial likelihood\n",
    "    mean_q = pm.find_MAP()\n",
    "    std_q = ((1/pm.find_hessian(mean_q, vars=[p]))**0.5)[0]\n",
    "\n",
    "precis(mean_q, std_q)"
   ]
  },
  {
   "cell_type": "markdown",
   "metadata": {},
   "source": [
    "#### Code 2.7\n",
    "\n",
    "Computing the posterior using the analytical calculation & comparing to quadratic approximation"
   ]
  },
  {
   "cell_type": "code",
   "execution_count": null,
   "metadata": {},
   "outputs": [],
   "source": [
    "# analytical calculation\n",
    "W, L = 6, 3\n",
    "x = np.linspace(0, 1, 100)\n",
    "plt.plot(x, stats.beta.pdf(x , W+1, L+1),\n",
    "         label='True posterior')\n",
    "\n",
    "# quadratic approximation\n",
    "plt.plot(x, stats.norm.pdf(x, mean_q['p'], std_q),\n",
    "         label='Quadratic approximation')\n",
    "plt.legend(loc=0, fontsize=13)\n",
    "\n",
    "plt.title('n = {}'.format(W+L), fontsize=14)\n",
    "plt.xlabel('Proportion water', fontsize=14)\n",
    "plt.ylabel('Density', fontsize=14);"
   ]
  },
  {
   "cell_type": "markdown",
   "metadata": {},
   "source": [
    "#### Code 2.8\n",
    "\n",
    "MCMC approximation"
   ]
  },
  {
   "cell_type": "code",
   "execution_count": null,
   "metadata": {},
   "outputs": [],
   "source": [
    "n_samples = 1000\n",
    "p = np.repeat(None, n_samples)\n",
    "p[0] = 0.5\n",
    "W = 6\n",
    "L = 3\n",
    "for i in range(1,n_samples):\n",
    "    p_new = stats.norm(p[i-1], 0.1).rvs(size=1)[0]\n",
    "    if p_new < 0:\n",
    "        p_new = math.abs(p_new)\n",
    "    if p_new > 1:\n",
    "        p_new = 2 - p_new\n",
    "    q0 = stats.binom.pmf(W, W+L, p[i-1])\n",
    "    q1 = stats.binom.pmf(W, W+L, p_new)\n",
    "    if stats.uniform().rvs(size=1)[0] < q1/q0:\n",
    "        p[i] = p_new\n",
    "    else:\n",
    "        p[i] = p[i-1]"
   ]
  },
  {
   "cell_type": "markdown",
   "metadata": {},
   "source": [
    "#### Code 2.9"
   ]
  },
  {
   "cell_type": "code",
   "execution_count": null,
   "metadata": {},
   "outputs": [],
   "source": [
    "x = np.linspace(0, 1, 100)\n",
    "plt.plot(x, stats.beta.pdf(x , W+1, L+1),\n",
    "          label='True posterior')\n",
    "\n",
    "plt.hist(list(p), range=(0,1), density=True, bins=100, label=\"MCMC\")\n",
    "plt.legend(loc=0, fontsize=13)"
   ]
  },
  {
   "cell_type": "markdown",
   "metadata": {},
   "source": [
    "### Book Problems"
   ]
  },
  {
   "cell_type": "markdown",
   "metadata": {},
   "source": [
    "#### 2M1: Compute and plot the grix approximate posterior distribution for each of the following sets of observations. Assume a uniform prior."
   ]
  },
  {
   "cell_type": "markdown",
   "metadata": {},
   "source": [
    "1) W, W, W"
   ]
  },
  {
   "cell_type": "code",
   "execution_count": null,
   "metadata": {},
   "outputs": [],
   "source": [
    "points = 20\n",
    "w, n = 3, 3\n",
    "\n",
    "plot_posterior(points, success=w, tosses=n, prior=None)"
   ]
  },
  {
   "cell_type": "markdown",
   "metadata": {},
   "source": [
    "2) W, W, W, L"
   ]
  },
  {
   "cell_type": "code",
   "execution_count": null,
   "metadata": {},
   "outputs": [],
   "source": [
    "points = 20\n",
    "w, n = 3, 4\n",
    "\n",
    "plot_posterior(points, success=w, tosses=n, prior=None)"
   ]
  },
  {
   "cell_type": "markdown",
   "metadata": {},
   "source": [
    "3) L, W, W, L, W, W, W"
   ]
  },
  {
   "cell_type": "code",
   "execution_count": null,
   "metadata": {},
   "outputs": [],
   "source": [
    "points = 20\n",
    "w, n = 5, 7\n",
    "\n",
    "plot_posterior(points, success=w, tosses=n, prior=None)"
   ]
  },
  {
   "cell_type": "markdown",
   "metadata": {},
   "source": [
    "#### 2M2:  Compute and plot the grix approximate posterior distribution for each of the following sets of observations. Assume a prior for p that is equal to zero when p < 0.5 and is a positive constant when p ≥ 0.5"
   ]
  },
  {
   "cell_type": "markdown",
   "metadata": {},
   "source": [
    "1) W, W, W"
   ]
  },
  {
   "cell_type": "code",
   "execution_count": null,
   "metadata": {},
   "outputs": [],
   "source": [
    "points = 20\n",
    "w, n = 3, 3\n",
    "\n",
    "plot_posterior(points, success=w, tosses=n, prior='step')"
   ]
  },
  {
   "cell_type": "markdown",
   "metadata": {},
   "source": [
    "2) W, W, W, L"
   ]
  },
  {
   "cell_type": "code",
   "execution_count": null,
   "metadata": {},
   "outputs": [],
   "source": [
    "points = 20\n",
    "w, n = 3, 4\n",
    "\n",
    "plot_posterior(points, success=w, tosses=n, prior='step')"
   ]
  },
  {
   "cell_type": "markdown",
   "metadata": {},
   "source": [
    "3) L, W, W, L, W, W, W"
   ]
  },
  {
   "cell_type": "code",
   "execution_count": null,
   "metadata": {},
   "outputs": [],
   "source": [
    "points = 20\n",
    "w, n = 5, 7\n",
    "\n",
    "plot_posterior(points, success=w, tosses=n, prior='step')"
   ]
  },
  {
   "cell_type": "markdown",
   "metadata": {},
   "source": [
    "#### 2M3\n",
    "Suppose there are two globes, one for Earth and one for Mars. The Earth globe is 70% covered in water. The Mars globe is 100% land. Further suppose that one of these globes—you don’t know which—was tossed in the air and produced a “land” observation. Assume that each globe was equally likely to be tossed. Show that the posterior probability that the globe was the Earth, conditional on seeing “land” (Pr(Earth|land)), is 0.23."
   ]
  },
  {
   "cell_type": "code",
   "execution_count": null,
   "metadata": {},
   "outputs": [],
   "source": [
    "# Goal: Pr(Globe|Land) = [0.23, 0.77]\n",
    "# Posterior = prob of data(likelihood) * prior / avg. prob of data\n",
    "# Pr(Globe|land) = Pr(land|Globe) * Pr(Globe) / Pr(Land)\n",
    "\n",
    "likelihood = np.array([0.3, 1])\n",
    "prior = np.array([0.5, 0.5])\n",
    "\n",
    "unstandardized_posterior = prior * likelihood\n",
    "posterior = unstandardized_posterior / sum(unstandardized_posterior)\n",
    "print(posterior)"
   ]
  },
  {
   "cell_type": "markdown",
   "metadata": {},
   "source": [
    "#### 2M4"
   ]
  },
  {
   "cell_type": "markdown",
   "metadata": {},
   "source": [
    "Suppose you have a deck with only three cards. Each card has two sides, and each side is either black or white. One card has two black sides. The second card has one black and one white side. The third card has two white sides. Now suppose all three cards are placed in a bag and shuffled. Someone reaches into the bag and pulls out a card and places it flat on a table. A black side is shown facing up, but you don’t know the color of the side facing down. Show that the probability that the other side is also black is 2/3. Use the counting method (Section 2 of the chapter) to approach this problem. This means counting up the ways that each card could produce the observed data (a black side facing up on the table)."
   ]
  },
  {
   "cell_type": "markdown",
   "metadata": {},
   "source": [
    "- Card B/B: 2 ways\n",
    "- Card W/B: 1 way\n",
    "- Card W/W: 0 ways\n",
    "\n",
    "\n",
    "- Total ways to see B: 3\n",
    "- Possible ways for B/B: 2\n",
    "\n",
    "2 / 3 = 2/3"
   ]
  },
  {
   "cell_type": "markdown",
   "metadata": {},
   "source": [
    "#### 2M5"
   ]
  },
  {
   "cell_type": "markdown",
   "metadata": {},
   "source": [
    "Now suppose there are four cards: B/B, B/W, W/W, and another B/B. Again suppose a card is drawn from the bag and a black side appears face up. Again calculate the probability that the other side is black."
   ]
  },
  {
   "cell_type": "markdown",
   "metadata": {},
   "source": [
    "- Card B/B: 2 ways\n",
    "- Card B/B: 2 ways\n",
    "- Card W/B: 1 way\n",
    "- Card W/W: 0 ways\n",
    "\n",
    "\n",
    "- Total ways to see B: 5\n",
    "- Possible ways for B/B: 4\n",
    "\n",
    "4 / 5 = 4/5"
   ]
  },
  {
   "cell_type": "markdown",
   "metadata": {},
   "source": [
    "#### 2M6"
   ]
  },
  {
   "cell_type": "markdown",
   "metadata": {},
   "source": [
    "Imagine that black ink is heavy, and so cards with black sides are heavier than cards with white sides. As a result, it’s less likely that a card with black sides is pulled from the bag. So again assume there are three cards: B/B, B/W, and W/W. After experimenting a number of times, you conclude that for every way to pull the B/B card from the bag, there are 2 ways to pull the B/W card and 3 ways to pull the W/W card. Again suppose that a card is pulled and a black side appears face up. Show that the probability the other side is black is now 0.5. Use the counting method, as before."
   ]
  },
  {
   "cell_type": "markdown",
   "metadata": {},
   "source": [
    "- Card B/B (1): 2 ways\n",
    "- Card W/B (2): 1 ways\n",
    "- Card W/W (3): 0 ways\n",
    "\n",
    "\n",
    "- Total ways to see B: (2 * 1) + (1 * 2) + (0 * 3) = 4\n",
    "- Possible ways for B/B: (2 * 1) = 2\n",
    "\n",
    "2 / 4 = 0.5"
   ]
  },
  {
   "cell_type": "markdown",
   "metadata": {},
   "source": [
    "#### 2M7"
   ]
  },
  {
   "cell_type": "markdown",
   "metadata": {},
   "source": [
    "Assume again the original card problem, with a single card showing a black side face up.Before looking at the other side, we draw another card from the bag and lay it face up on the table. The face that is shown on the new card is white. Show that the probability that the first card, the one showing a black side, has black on its other side is now 0.75. Use the counting method, if you can. Hint: Treat this like the sequence of globe tosses, counting all the ways to see each observation, for each possible first card."
   ]
  },
  {
   "cell_type": "markdown",
   "metadata": {},
   "source": [
    "- B/B, W/B: 2 ways\n",
    "- B/B, W/W: 4 ways\n",
    "- W/B, B/B: 0 ways\n",
    "- W/B, W/W: 2 ways\n",
    "- W/W, B/B: 0 ways\n",
    "- W/W, W/B: 0 ways\n",
    "\n",
    "\n",
    "- Total possible ways to see B, W: 8\n",
    "- Possible ways for B/B, W: 6\n",
    "    \n",
    "\n",
    "6/8 = 0.75"
   ]
  },
  {
   "cell_type": "markdown",
   "metadata": {},
   "source": [
    "#### 2H1"
   ]
  },
  {
   "cell_type": "markdown",
   "metadata": {},
   "source": [
    "Suppose there are two species of panda bear. Both are equally common in the wild and live in the same places. They look exactly alike and eat the same food, and there is yet no genetic assay capable of telling them apart. They differ however in their family sizes. Species A gives birth to twins 10% of the time, otherwise birthing a single infant. Species B births twins 20% of the time, otherwise birthing singleton infants. Assume these numbers are known with certainty, from many years of field research.\n",
    "\n",
    "Now suppose you are managing a captive panda breeding program. You have a new female panda of unknown species, and she has just given birth to twins. What is the probability that her next birth will also be twins?"
   ]
  },
  {
   "cell_type": "code",
   "execution_count": null,
   "metadata": {},
   "outputs": [],
   "source": [
    "# Goal: Pr(twins_1|twins_0)\n",
    "# Goal: Pr(twins_1|twins_0) = Pr(twins|Species=A) * Pr(Species=A|twins_0) + Pr(twins|Species=B) * Pr(Species=B|twins_0)\n",
    "\n",
    "# Posterior = prob of data(likelihood) * prior / avg. prob of data\n",
    "# Pr(Species|twins_0) = Pr(twins|Species) * Pr(Species) / Pr(twins)\n",
    "\n",
    "likelihood = np.array([0.1, 0.2])  # species A, species B (Pr(twins|Species))\n",
    "prior = np.array([0.5, 0.5])  # (Pr(Species))\n",
    "\n",
    "unstandardized_posterior = prior * likelihood\n",
    "posterior = unstandardized_posterior / sum(unstandardized_posterior)  # Pr(Species|twins_0)\n",
    "\n",
    "# Probability next birth is twins given first birth was twins\n",
    "# Pr(Species|twins_1) = Pr(twins|Species) * Pr(Species|twins_0) / Pr(twins)\n",
    "prior = posterior\n",
    "unstandardized_posterior = prior * likelihood  # Pr(twins|Species) * Pr(Species|twins_0)\n",
    "prob_twins = sum(unstandardized_posterior)  # Pr(twins|Species=A) * Pr(Species=A) + Pr(twins|Species=B) * Pr(Species=B)\n",
    "\n",
    "print(f'Pr(twins_1|twins_0) = {prob_twins}')"
   ]
  },
  {
   "cell_type": "markdown",
   "metadata": {},
   "source": [
    "#### 2H2"
   ]
  },
  {
   "cell_type": "markdown",
   "metadata": {},
   "source": [
    "Recall all the facts from the problem above. Now compute the probability that the panda we have is from species A, assuming we have observed only the first birth and that it was twins."
   ]
  },
  {
   "cell_type": "code",
   "execution_count": null,
   "metadata": {},
   "outputs": [],
   "source": [
    "# Goal: Pr(Species|twins_0) = Pr(twins|Species) * Pr(Species) / Pr(twins)\n",
    "# Posterior = prob of data(likelihood) * prior / avg. prob of data\n",
    "\n",
    "likelihood = np.array([0.1, 0.2])  # species A, species B (Pr(twins|Species))\n",
    "prior = np.array([0.5, 0.5])  # (Pr(Species))\n",
    "\n",
    "unstandardized_posterior = prior * likelihood\n",
    "posterior = unstandardized_posterior / sum(unstandardized_posterior)  # Pr(Species|twins_0)\n",
    "\n",
    "print(f'Pr(Species|twins_0) = {posterior}')  # [Pr(Species=A|twins), Pr(Species=B|twins)]"
   ]
  },
  {
   "cell_type": "markdown",
   "metadata": {},
   "source": [
    "#### 2H3"
   ]
  },
  {
   "cell_type": "markdown",
   "metadata": {},
   "source": [
    "Continuing on from the previous problem, suppose the same panda mother has a second birth and that it is not twins, but a singleton infant. Compute the posterior probability that this panda is species A."
   ]
  },
  {
   "cell_type": "code",
   "execution_count": null,
   "metadata": {},
   "outputs": [],
   "source": [
    "# Goal: Pr(Species|twins_0, single_1) = Pr(twins_0, single_1|Species) * Pr(Species) / Pr(twins_0, single_1)\n",
    "# Posterior = prob of data(likelihood) * prior / avg. prob of data\n",
    "\n",
    "# Since the first and second births are independent, we can just calculate Pr(Species|twins)\n",
    "# and use it as the prior for Pr(Species) when calculating Pr(single_1|Species)\n",
    "\n",
    "likelihood_twins = np.array([0.1, 0.2])  # species A, species B (Pr(twins|Species))\n",
    "prior = np.array([0.5, 0.5])  # (Pr(Species))\n",
    "\n",
    "unstandardized_posterior = prior * likelihood_twins\n",
    "posterior = unstandardized_posterior / sum(unstandardized_posterior)  # Pr(Species|twins_0)\n",
    "\n",
    "# Use previous posterior as prior\n",
    "prior = posterior\n",
    "likelihood_single = np.array([0.9, 0.8])   # species A, species B (Pr(single|Species))\n",
    "\n",
    "unstandardized_posterior = prior * likelihood_single\n",
    "posterior = unstandardized_posterior / sum(unstandardized_posterior)\n",
    "print(f'Pr(Species|twins_0, single_1) = {posterior}')  # [Pr(Species=A|twins_0, single_1), Pr(Species=B|twins_0, single_1)]"
   ]
  },
  {
   "cell_type": "markdown",
   "metadata": {},
   "source": [
    "#### 2H4"
   ]
  },
  {
   "cell_type": "markdown",
   "metadata": {},
   "source": [
    "A common boast of Bayesian statisticians is that Bayesian inference makes it easy to use all of the data, even if the data are of different types.\n",
    "So suppose now that a veterinarian comes along who has a new genetic test that she claims can identify the species of our mother panda. But the test, like all tests, is imperfect. This is the information you have about the test:\n",
    "\n",
    "\n",
    "- The probability it correctly identifies a species A panda is 0.8.\n",
    "- The probability it correctly identifies a species B panda is 0.65.\n",
    "\n",
    "\n",
    "The vet administers the test to your panda and tells you that the test is positive for species A. First ignore your previous information from the births and compute the posterior probability that your panda is species A. Then redo your calculation, now using the birth data as well."
   ]
  },
  {
   "cell_type": "code",
   "execution_count": null,
   "metadata": {},
   "outputs": [],
   "source": [
    "# Goal: Pr(Species|Test=A) = Pr(Test=A|Species) * Pr(Species) / Pr(Test=A)\n",
    "\n",
    "# What we know:\n",
    "# Pr(Test=A|Species=A) = 0.8\n",
    "# Pr(Test=B|Species=B) = 0.65\n",
    "# Pr(Test=A|Species=B) = 0.35\n",
    "# Pr(Test=B|Species=A) = 0.2\n",
    "\n",
    "likelihood = np.array([0.8, 0.35])  # (Pr(Test=A|Species))\n",
    "prior = np.array([0.5, 0.5])  # (Pr(Species))\n",
    "\n",
    "unstandardized_posterior = prior * likelihood\n",
    "posterior = unstandardized_posterior / sum(unstandardized_posterior)  # Pr(Species|Test=A)\n",
    "print(f'Pr(Species|Test=A) = {posterior}')  # [Pr(Species=A|Test=A), Pr(Species=B|Test=A)]"
   ]
  },
  {
   "cell_type": "code",
   "execution_count": null,
   "metadata": {},
   "outputs": [],
   "source": [
    "# Goal: Pr(Species|Test=A, twins_0, single_1)\n",
    "\n",
    "# We can just use the posteriors of each as the priors of the next\n",
    "\n",
    "# First the test\n",
    "likelihood_test_a = np.array([0.8, 0.35])  # (Pr(Test=A|Species))\n",
    "prior = np.array([0.5, 0.5])  # (Pr(Species))\n",
    "\n",
    "unstandardized_posterior = prior * likelihood_test_a\n",
    "posterior = unstandardized_posterior / sum(unstandardized_posterior)  # Pr(Species|Test=A)\n",
    "print(f'Pr(Species|Test=A) = {posterior}')\n",
    "\n",
    "# Then the twins\n",
    "prior = posterior\n",
    "likelihood_twins = np.array([0.1, 0.2])  # species A, species B (Pr(twins|Species))\n",
    "\n",
    "unstandardized_posterior = prior * likelihood_twins\n",
    "posterior = unstandardized_posterior / sum(unstandardized_posterior)  # Pr(Species|Test=A, twins_0)\n",
    "print(f'Pr(Species|Test=A, twins_0) = {posterior}')\n",
    "\n",
    "# Then the single\n",
    "prior = posterior\n",
    "likelihood_single = np.array([0.9, 0.8])  # species A, species B (Pr(single|Species))\n",
    "\n",
    "unstandardized_posterior = prior * likelihood_single\n",
    "posterior = unstandardized_posterior / sum(unstandardized_posterior)  # Pr(Species|Test=A, twins_0, single_1)\n",
    "print(f'Pr(Species|Test=A, twins_0, single_1) = {posterior}')  # [Pr(Species=A|Test=A, twins_0, single_1), Pr(Species=B|Test=A, twins_0, single_1)]"
   ]
  },
  {
   "cell_type": "code",
   "execution_count": null,
   "metadata": {},
   "outputs": [],
   "source": []
  },
  {
   "cell_type": "markdown",
   "metadata": {},
   "source": [
    "### Homework"
   ]
  },
  {
   "cell_type": "markdown",
   "metadata": {},
   "source": [
    "#### 1)\n",
    "Suppose the globe tossing data had turned out to be 8 water in 15 tosses. Construct the posterior distribution, using grid approximation. use the same flat prior as before."
   ]
  },
  {
   "cell_type": "code",
   "execution_count": null,
   "metadata": {},
   "outputs": [],
   "source": [
    "points = 30\n",
    "w, n = 8, 15\n",
    "prior = np.repeat(5,points)\n",
    "p_grid, posterior = posterior_grid_approx(points, w, n, prior)\n",
    "plt.plot(p_grid, posterior, 'o-', label='success = {}\\ntosses = {}'.format(w, n))\n",
    "plt.xlabel('probability of water', fontsize=14)\n",
    "plt.ylabel('posterior probability', fontsize=14)\n",
    "plt.title('{} points'.format(points))\n",
    "plt.legend(loc=0);"
   ]
  },
  {
   "cell_type": "markdown",
   "metadata": {},
   "source": [
    "#### 2)\n",
    "Start over in 1, but now use a prior that is zero below p=0.5 and a constant above p=0.5. This corresponds to prior info that a majority of Earth's surface is water. What difference does the better prior make? If it helps, compare posterior distributions (using both priors) to the true value p=0.7"
   ]
  },
  {
   "cell_type": "code",
   "execution_count": null,
   "metadata": {},
   "outputs": [],
   "source": [
    "points = 30\n",
    "w, n = 8, 15\n",
    "prior = (np.linspace(0,1,points) >= 0.5).astype(int)\n",
    "p_grid, posterior = posterior_grid_approx(points, w, n, prior)\n",
    "plt.plot(p_grid, posterior, 'o-', label='success = {}\\ntosses = {}'.format(w, n))\n",
    "plt.xlabel('probability of water', fontsize=14)\n",
    "plt.ylabel('posterior probability', fontsize=14)\n",
    "plt.title('{} points'.format(points))\n",
    "plt.legend(loc=0);"
   ]
  },
  {
   "cell_type": "markdown",
   "metadata": {},
   "source": [
    "The better prior (zero below p = 0.5) yields a higher posterior probability that the probability of water = 0.7. This is because the area under the curve must sum to 1, and there is less space below this posterior's curve (meaning that the graph is streched higher)."
   ]
  },
  {
   "cell_type": "markdown",
   "metadata": {},
   "source": [
    "#### 3)\n",
    "This problem is more open-ended than the others. Feel free to colaborate on the solution. Suppose you want to estimate the Earth's proportion of water very precisely. Specifically, you want the 99% percentile interval of the posterior distribution of p to be only 0.05 wide. This means the distance between the upper and lower bound of the interval should be 0.05. How many times will you have to toss the globe to do this? I won't require a precise answer. I'm honestly more interested in your approach."
   ]
  },
  {
   "cell_type": "code",
   "execution_count": null,
   "metadata": {},
   "outputs": [],
   "source": [
    "def percentile_interval(data, confidence):\n",
    "    n = len(data)\n",
    "    m = np.mean(data)\n",
    "    std_err = stats.sem(data)\n",
    "    h = std_err * stats.t.ppf((1 + confidence) / 2, n-1)\n",
    "    interval = h*2\n",
    "    return interval"
   ]
  },
  {
   "cell_type": "code",
   "execution_count": null,
   "metadata": {},
   "outputs": [],
   "source": [
    "def calculate_interval_based_on_tosses(tosses):\n",
    "    p_true = 0.7\n",
    "    w = stats.binom.rvs(tosses,p_true)\n",
    "    p_grid = np.linspace(0,1,1000)\n",
    "    prior = np.repeat(1,1000)\n",
    "    prob_data = stats.binom.pmf(w,tosses, p_grid)\n",
    "    posterior = prob_data * prior\n",
    "    posterior = posterior / sum(posterior)\n",
    "    samples = np.random.choice(p_grid, size=1000, p=posterior, replace=True)\n",
    "    interval_vals = np.percentile(samples, [0.05, 99.5])\n",
    "    print(interval_vals)\n",
    "    interval = interval_vals[1] - interval_vals[0]\n",
    "    return interval\n",
    "        \n",
    "        \n",
    "        \n",
    "#     # define grid\n",
    "#     p_grid = np.linspace(0, 1, grid_points)\n",
    "\n",
    "#     # define prior\n",
    "#     if prior is None:\n",
    "#         prior = np.repeat(5, grid_points)  # uniform\n",
    "#     #prior = (p_grid >= 0.5).astype(int)  # truncated\n",
    "#     #prior = np.exp(- 5 * abs(p_grid - 0.5))  # double exp\n",
    "\n",
    "#     # compute likelihood at each point in the grid\n",
    "#     likelihood = stats.binom.pmf(success, tosses, p_grid)\n",
    "\n",
    "#     # compute product of likelihood and prior\n",
    "#     unstd_posterior = likelihood * prior\n",
    "\n",
    "#     # standardize the posterior, so it sums to 1\n",
    "#     posterior = unstd_posterior / unstd_posterior.sum()\n",
    "#     return p_grid, posterior"
   ]
  },
  {
   "cell_type": "code",
   "execution_count": null,
   "metadata": {},
   "outputs": [],
   "source": []
  },
  {
   "cell_type": "code",
   "execution_count": null,
   "metadata": {},
   "outputs": [],
   "source": [
    "calculate_interval_based_on_tosses(2000)"
   ]
  },
  {
   "cell_type": "code",
   "execution_count": null,
   "metadata": {},
   "outputs": [],
   "source": [
    "import sys, IPython, scipy, matplotlib, platform\n",
    "print(\"This notebook was createad on a computer %s running %s and using:\\nPython %s\\nIPython %s\\nPyMC3 %s\\nNumPy %s\\nSciPy %s\\nMatplotlib %s\\n\" % (platform.machine(), ' '.join(platform.linux_distribution()[:2]), sys.version[:5], IPython.__version__, pm.__version__, np.__version__, scipy.__version__, matplotlib.__version__))"
   ]
  },
  {
   "cell_type": "code",
   "execution_count": null,
   "metadata": {},
   "outputs": [],
   "source": []
  }
 ],
 "metadata": {
  "kernelspec": {
   "display_name": "Python 3",
   "language": "python",
   "name": "python3"
  },
  "language_info": {
   "codemirror_mode": {
    "name": "ipython",
    "version": 3
   },
   "file_extension": ".py",
   "mimetype": "text/x-python",
   "name": "python",
   "nbconvert_exporter": "python",
   "pygments_lexer": "ipython3",
   "version": "3.7.3"
  }
 },
 "nbformat": 4,
 "nbformat_minor": 1
}
